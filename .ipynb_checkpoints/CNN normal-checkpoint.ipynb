{
 "cells": [
  {
   "cell_type": "code",
   "execution_count": 1,
   "metadata": {},
   "outputs": [],
   "source": [
    "import cv2\n",
    "import matplotlib.pyplot as plt\n",
    "%matplotlib inline\n",
    "import numpy as np\n",
    "import imageio"
   ]
  },
  {
   "cell_type": "code",
   "execution_count": 2,
   "metadata": {},
   "outputs": [],
   "source": [
    "import glob\n",
    "eva=[]\n",
    "for image_path in glob.glob(\"image_aumentation/Eva/*.jpg\"):\n",
    "    image = imageio.imread(image_path)\n",
    "    eva.append(image)"
   ]
  },
  {
   "cell_type": "code",
   "execution_count": 3,
   "metadata": {},
   "outputs": [
    {
     "data": {
      "text/plain": [
       "70"
      ]
     },
     "execution_count": 3,
     "metadata": {},
     "output_type": "execute_result"
    }
   ],
   "source": [
    "len(eva)"
   ]
  },
  {
   "cell_type": "code",
   "execution_count": 4,
   "metadata": {},
   "outputs": [],
   "source": [
    "import glob\n",
    "edgar=[]\n",
    "for image_path in glob.glob(\"image_aumentation/Edgar/*.jpg\"):\n",
    "    image = imageio.imread(image_path)\n",
    "    edgar.append(image)"
   ]
  },
  {
   "cell_type": "code",
   "execution_count": 5,
   "metadata": {},
   "outputs": [],
   "source": [
    "eva_res=[]\n",
    "width = 224\n",
    "height = 224\n",
    "for image in eva:\n",
    "    image_resized = cv2.resize(image,(width,height),interpolation = cv2.INTER_CUBIC)\n",
    "    eva_res.append(image_resized)"
   ]
  },
  {
   "cell_type": "code",
   "execution_count": 6,
   "metadata": {},
   "outputs": [],
   "source": [
    "edgar_res=[]\n",
    "width = 224\n",
    "height = 224\n",
    "for image in edgar:\n",
    "    image_resized = cv2.resize(image,(width,height),interpolation = cv2.INTER_CUBIC)\n",
    "    edgar_res.append(image_resized)"
   ]
  },
  {
   "cell_type": "code",
   "execution_count": 7,
   "metadata": {},
   "outputs": [],
   "source": [
    "edited_eva=[]\n",
    "for i in range(len(eva_res)):\n",
    "    gray_eva= cv2.cvtColor(eva_res[i],cv2.COLOR_BGR2GRAY)\n",
    "    edges = cv2.adaptiveThreshold(gray_eva, 255,cv2.ADAPTIVE_THRESH_MEAN_C,cv2.THRESH_BINARY,27,10)\n",
    "    color_eva= cv2.cvtColor(edges,cv2.COLOR_GRAY2RGB)\n",
    "    edited_eva.append(eva_res[i])"
   ]
  },
  {
   "cell_type": "code",
   "execution_count": 8,
   "metadata": {},
   "outputs": [],
   "source": [
    "edited_edgar=[]\n",
    "for i in range(len(eva_res)):\n",
    "    gray_eva= cv2.cvtColor(edgar_res[i],cv2.COLOR_BGR2GRAY)\n",
    "    edges = cv2.adaptiveThreshold(gray_eva, 255,cv2.ADAPTIVE_THRESH_MEAN_C,cv2.THRESH_BINARY,27,10)\n",
    "    color_edgar= cv2.cvtColor(edges,cv2.COLOR_GRAY2RGB)\n",
    "    edited_edgar.append(edgar_res[i])"
   ]
  },
  {
   "cell_type": "markdown",
   "metadata": {},
   "source": [
    "### Pre-pocesat imatges"
   ]
  },
  {
   "cell_type": "code",
   "execution_count": 9,
   "metadata": {},
   "outputs": [],
   "source": [
    "eva = np.asarray(edited_eva)"
   ]
  },
  {
   "cell_type": "code",
   "execution_count": 10,
   "metadata": {},
   "outputs": [],
   "source": [
    "edgar = np.asarray(edited_edgar)"
   ]
  },
  {
   "cell_type": "markdown",
   "metadata": {},
   "source": [
    "### Train/test"
   ]
  },
  {
   "cell_type": "code",
   "execution_count": 11,
   "metadata": {},
   "outputs": [],
   "source": [
    "total = eva.shape[0]"
   ]
  },
  {
   "cell_type": "code",
   "execution_count": 12,
   "metadata": {},
   "outputs": [
    {
     "data": {
      "text/plain": [
       "56.0"
      ]
     },
     "execution_count": 12,
     "metadata": {},
     "output_type": "execute_result"
    }
   ],
   "source": [
    "train = total*0.8\n",
    "train"
   ]
  },
  {
   "cell_type": "code",
   "execution_count": 13,
   "metadata": {},
   "outputs": [],
   "source": [
    "eva = np.split(eva,[56])"
   ]
  },
  {
   "cell_type": "code",
   "execution_count": 14,
   "metadata": {},
   "outputs": [],
   "source": [
    "edgar = np.split(edgar,[56])\n"
   ]
  },
  {
   "cell_type": "code",
   "execution_count": 15,
   "metadata": {},
   "outputs": [],
   "source": [
    "eva_train = eva[0]\n",
    "eva_test = eva[1]"
   ]
  },
  {
   "cell_type": "code",
   "execution_count": 16,
   "metadata": {},
   "outputs": [],
   "source": [
    "edgar_train = edgar[0]\n",
    "edgar_test = edgar[1]"
   ]
  },
  {
   "cell_type": "code",
   "execution_count": 17,
   "metadata": {},
   "outputs": [],
   "source": [
    "label_eva_train=np.zeros((56))\n",
    "label_eva_test=np.zeros((14))\n",
    "#We define that if we have a 0 is a Eva"
   ]
  },
  {
   "cell_type": "code",
   "execution_count": 18,
   "metadata": {},
   "outputs": [],
   "source": [
    "label_edgar_train=np.ones((56))\n",
    "label_edgar_test=np.ones((14))"
   ]
  },
  {
   "cell_type": "code",
   "execution_count": 19,
   "metadata": {},
   "outputs": [
    {
     "data": {
      "text/plain": [
       "(56, 224, 224, 3)"
      ]
     },
     "execution_count": 19,
     "metadata": {},
     "output_type": "execute_result"
    }
   ],
   "source": [
    "eva_train.shape"
   ]
  },
  {
   "cell_type": "code",
   "execution_count": 20,
   "metadata": {},
   "outputs": [
    {
     "data": {
      "text/plain": [
       "(56, 224, 224, 3)"
      ]
     },
     "execution_count": 20,
     "metadata": {},
     "output_type": "execute_result"
    }
   ],
   "source": [
    "edgar_train.shape"
   ]
  },
  {
   "cell_type": "code",
   "execution_count": 21,
   "metadata": {},
   "outputs": [],
   "source": [
    "train_x=np.concatenate((eva_train,edgar_train))\n",
    "test_x=np.concatenate((eva_test,edgar_test))\n",
    "train_y=np.concatenate((label_eva_train,label_edgar_train))\n",
    "test_y=np.concatenate((label_eva_test,label_edgar_test))"
   ]
  },
  {
   "cell_type": "markdown",
   "metadata": {},
   "source": [
    "## MODEL"
   ]
  },
  {
   "cell_type": "code",
   "execution_count": 22,
   "metadata": {},
   "outputs": [
    {
     "name": "stderr",
     "output_type": "stream",
     "text": [
      "Using TensorFlow backend.\n"
     ]
    }
   ],
   "source": [
    "from __future__ import print_function\n",
    "import keras\n",
    "from keras.models import Sequential\n",
    "from keras.layers import Dense, Dropout, Flatten,BatchNormalization\n",
    "from keras.layers import Conv2D, MaxPooling2D\n",
    "from keras import backend as K\n",
    "\n",
    "#from keras.preprocessing import image\n",
    "import numpy as np\n",
    "import matplotlib.pyplot as plt\n",
    "\n",
    "import h5py  #libreria de los gatos\n",
    "import scipy\n",
    "from PIL import Image\n",
    "from scipy import ndimage"
   ]
  },
  {
   "cell_type": "code",
   "execution_count": 23,
   "metadata": {},
   "outputs": [],
   "source": [
    "import tensorflow as tf\n",
    "from tensorflow import keras\n",
    "# CNN parameters\n",
    "batch_size = 32\n",
    "num_classes = 1\n",
    "epochs = 20"
   ]
  },
  {
   "cell_type": "code",
   "execution_count": 24,
   "metadata": {},
   "outputs": [
    {
     "name": "stderr",
     "output_type": "stream",
     "text": [
      "WARNING: Logging before flag parsing goes to stderr.\n",
      "W0829 13:18:43.928104 139978034333504 deprecation_wrapper.py:119] From /home/eva/anaconda3/envs/akademyai/lib/python3.7/site-packages/keras/backend/tensorflow_backend.py:74: The name tf.get_default_graph is deprecated. Please use tf.compat.v1.get_default_graph instead.\n",
      "\n",
      "W0829 13:18:43.941409 139978034333504 deprecation_wrapper.py:119] From /home/eva/anaconda3/envs/akademyai/lib/python3.7/site-packages/keras/backend/tensorflow_backend.py:517: The name tf.placeholder is deprecated. Please use tf.compat.v1.placeholder instead.\n",
      "\n",
      "W0829 13:18:43.943594 139978034333504 deprecation_wrapper.py:119] From /home/eva/anaconda3/envs/akademyai/lib/python3.7/site-packages/keras/backend/tensorflow_backend.py:4138: The name tf.random_uniform is deprecated. Please use tf.random.uniform instead.\n",
      "\n",
      "W0829 13:18:43.977833 139978034333504 deprecation_wrapper.py:119] From /home/eva/anaconda3/envs/akademyai/lib/python3.7/site-packages/keras/backend/tensorflow_backend.py:174: The name tf.get_default_session is deprecated. Please use tf.compat.v1.get_default_session instead.\n",
      "\n",
      "W0829 13:18:43.978621 139978034333504 deprecation_wrapper.py:119] From /home/eva/anaconda3/envs/akademyai/lib/python3.7/site-packages/keras/backend/tensorflow_backend.py:181: The name tf.ConfigProto is deprecated. Please use tf.compat.v1.ConfigProto instead.\n",
      "\n",
      "W0829 13:18:44.064024 139978034333504 deprecation_wrapper.py:119] From /home/eva/anaconda3/envs/akademyai/lib/python3.7/site-packages/keras/backend/tensorflow_backend.py:1834: The name tf.nn.fused_batch_norm is deprecated. Please use tf.compat.v1.nn.fused_batch_norm instead.\n",
      "\n",
      "W0829 13:18:44.125002 139978034333504 deprecation_wrapper.py:119] From /home/eva/anaconda3/envs/akademyai/lib/python3.7/site-packages/keras/backend/tensorflow_backend.py:3976: The name tf.nn.max_pool is deprecated. Please use tf.nn.max_pool2d instead.\n",
      "\n"
     ]
    }
   ],
   "source": [
    "# setup model\n",
    "model = Sequential()\n",
    "#conv 1\n",
    "model.add(Conv2D(16, kernel_size=(3, 3),\n",
    "                activation='relu',\n",
    "                input_shape=(224,224,3)))\n",
    "model.add(BatchNormalization(axis=3))\n",
    "#max pooling 1\n",
    "model.add(MaxPooling2D(pool_size=(2,2), strides=2)) #Strides\n",
    "#conv 2\n",
    "model.add(Conv2D(16, (3, 3), activation='relu'))\n",
    "model.add(BatchNormalization(axis=3))\n",
    "#max pooling 2\n",
    "model.add(MaxPooling2D(pool_size=(2, 2), strides=2))\n",
    "#model.add(Dropout(0.25))\n",
    "#conv 3\n",
    "model.add(Conv2D(32, (3, 3), activation='relu'))\n",
    "model.add(BatchNormalization(axis=3))\n",
    "#max pooling 3\n",
    "model.add(MaxPooling2D(pool_size=(2, 2), strides=2))\n",
    "#conv 4\n",
    "model.add(Conv2D(32, (3, 3), activation='relu'))\n",
    "model.add(BatchNormalization(axis=3))\n",
    "#max pooling 3\n",
    "model.add(MaxPooling2D(pool_size=(2, 2), strides=2))\n",
    "#flatten\n",
    "model.add(Flatten())\n",
    "# fc layer 1\n",
    "model.add(Dense(512, activation='relu'))\n",
    "#model.add(Dropout(0.5))\n",
    "# fc layer 2\n",
    "model.add(Dense(1, activation='sigmoid'))"
   ]
  },
  {
   "cell_type": "code",
   "execution_count": 25,
   "metadata": {},
   "outputs": [
    {
     "name": "stderr",
     "output_type": "stream",
     "text": [
      "W0829 13:18:44.353697 139978034333504 deprecation_wrapper.py:119] From /home/eva/anaconda3/envs/akademyai/lib/python3.7/site-packages/keras/optimizers.py:790: The name tf.train.Optimizer is deprecated. Please use tf.compat.v1.train.Optimizer instead.\n",
      "\n",
      "W0829 13:18:44.377614 139978034333504 deprecation.py:323] From /home/eva/anaconda3/envs/akademyai/lib/python3.7/site-packages/tensorflow/python/ops/nn_impl.py:180: add_dispatch_support.<locals>.wrapper (from tensorflow.python.ops.array_ops) is deprecated and will be removed in a future version.\n",
      "Instructions for updating:\n",
      "Use tf.where in 2.0, which has the same broadcast rule as np.where\n"
     ]
    },
    {
     "name": "stdout",
     "output_type": "stream",
     "text": [
      "_________________________________________________________________\n",
      "Layer (type)                 Output Shape              Param #   \n",
      "=================================================================\n",
      "conv2d_1 (Conv2D)            (None, 222, 222, 16)      448       \n",
      "_________________________________________________________________\n",
      "batch_normalization_1 (Batch (None, 222, 222, 16)      64        \n",
      "_________________________________________________________________\n",
      "max_pooling2d_1 (MaxPooling2 (None, 111, 111, 16)      0         \n",
      "_________________________________________________________________\n",
      "conv2d_2 (Conv2D)            (None, 109, 109, 16)      2320      \n",
      "_________________________________________________________________\n",
      "batch_normalization_2 (Batch (None, 109, 109, 16)      64        \n",
      "_________________________________________________________________\n",
      "max_pooling2d_2 (MaxPooling2 (None, 54, 54, 16)        0         \n",
      "_________________________________________________________________\n",
      "conv2d_3 (Conv2D)            (None, 52, 52, 32)        4640      \n",
      "_________________________________________________________________\n",
      "batch_normalization_3 (Batch (None, 52, 52, 32)        128       \n",
      "_________________________________________________________________\n",
      "max_pooling2d_3 (MaxPooling2 (None, 26, 26, 32)        0         \n",
      "_________________________________________________________________\n",
      "conv2d_4 (Conv2D)            (None, 24, 24, 32)        9248      \n",
      "_________________________________________________________________\n",
      "batch_normalization_4 (Batch (None, 24, 24, 32)        128       \n",
      "_________________________________________________________________\n",
      "max_pooling2d_4 (MaxPooling2 (None, 12, 12, 32)        0         \n",
      "_________________________________________________________________\n",
      "flatten_1 (Flatten)          (None, 4608)              0         \n",
      "_________________________________________________________________\n",
      "dense_1 (Dense)              (None, 512)               2359808   \n",
      "_________________________________________________________________\n",
      "dense_2 (Dense)              (None, 1)                 513       \n",
      "=================================================================\n",
      "Total params: 2,377,361\n",
      "Trainable params: 2,377,169\n",
      "Non-trainable params: 192\n",
      "_________________________________________________________________\n"
     ]
    }
   ],
   "source": [
    "# compile model\n",
    "#adam=keras.optimizers.Adam(lr=0.001, beta_1=0.9, beta_2=0.999, epsilon=None, decay=0.001, amsgrad=False)\n",
    "keras.optimizers.Adam(lr=0.001)\n",
    "\n",
    "adamax=keras.optimizers.Adamax(lr=0.2, beta_1=0.9, beta_2=0.999, epsilon=None, decay=0.0)\n",
    "adagrad=keras.optimizers.Adagrad(lr=0.001, epsilon=None, decay=0.0)\n",
    "\n",
    "model.compile(loss='binary_crossentropy',\n",
    "              optimizer='adam',\n",
    "              metrics=['accuracy'])\n",
    "\n",
    "model.summary()"
   ]
  },
  {
   "cell_type": "markdown",
   "metadata": {},
   "source": [
    "## AQUI ES DONDE ENTRENAMOS EL MODELO DEFINIDO ANTERIORMENTE CON NUESTROS DATOS"
   ]
  },
  {
   "cell_type": "code",
   "execution_count": 26,
   "metadata": {},
   "outputs": [
    {
     "name": "stdout",
     "output_type": "stream",
     "text": [
      "Epoch 1/4\n",
      "112/112 [==============================] - 5s 47ms/step - loss: 1.5880 - acc: 0.6250\n",
      "Epoch 2/4\n",
      "112/112 [==============================] - 4s 38ms/step - loss: 0.3774 - acc: 0.9375\n",
      "Epoch 3/4\n",
      "112/112 [==============================] - 4s 33ms/step - loss: 0.2972 - acc: 0.9732\n",
      "Epoch 4/4\n",
      "112/112 [==============================] - 4s 35ms/step - loss: 0.1376 - acc: 0.9821\n"
     ]
    },
    {
     "data": {
      "text/plain": [
       "<keras.callbacks.History at 0x7f4ef17e7e48>"
      ]
     },
     "execution_count": 26,
     "metadata": {},
     "output_type": "execute_result"
    }
   ],
   "source": [
    "model.fit(train_x, train_y, epochs=4)"
   ]
  },
  {
   "cell_type": "code",
   "execution_count": 27,
   "metadata": {},
   "outputs": [
    {
     "name": "stdout",
     "output_type": "stream",
     "text": [
      "28/28 [==============================] - 1s 27ms/step\n",
      "test accuracy:  0.8571428656578064\n"
     ]
    }
   ],
   "source": [
    "# evaluate\n",
    "test_loss, test_acc = model.evaluate(test_x, test_y)\n",
    "print('test accuracy: ', test_acc)"
   ]
  },
  {
   "cell_type": "code",
   "execution_count": 28,
   "metadata": {},
   "outputs": [
    {
     "name": "stdout",
     "output_type": "stream",
     "text": [
      "Test loss: 0.9223507046699524\n",
      "Test accuracy: 0.8571428656578064\n"
     ]
    }
   ],
   "source": [
    "# evaluate model\n",
    "score = model.evaluate(test_x, test_y, verbose=0)\n",
    "print('Test loss:', score[0])\n",
    "print('Test accuracy:', score[1])"
   ]
  },
  {
   "cell_type": "code",
   "execution_count": 29,
   "metadata": {},
   "outputs": [],
   "source": [
    "predictions = model.predict(test_x)"
   ]
  },
  {
   "cell_type": "code",
   "execution_count": 30,
   "metadata": {},
   "outputs": [
    {
     "data": {
      "text/plain": [
       "array([[1.0907650e-05],\n",
       "       [0.0000000e+00],\n",
       "       [0.0000000e+00],\n",
       "       [3.1124055e-03],\n",
       "       [7.8428006e-01],\n",
       "       [0.0000000e+00],\n",
       "       [1.2629783e-01],\n",
       "       [0.0000000e+00],\n",
       "       [8.3148479e-06],\n",
       "       [7.7724457e-04],\n",
       "       [1.7633051e-02],\n",
       "       [0.0000000e+00],\n",
       "       [2.8008878e-02],\n",
       "       [0.0000000e+00],\n",
       "       [1.0000000e+00],\n",
       "       [5.4671001e-01],\n",
       "       [9.9999964e-01],\n",
       "       [1.0000000e+00],\n",
       "       [9.8136115e-01],\n",
       "       [1.0863870e-02],\n",
       "       [9.9998748e-01],\n",
       "       [1.0000000e+00],\n",
       "       [1.0000000e+00],\n",
       "       [9.8523879e-01],\n",
       "       [0.0000000e+00],\n",
       "       [9.9994099e-01],\n",
       "       [5.9077203e-02],\n",
       "       [1.0000000e+00]], dtype=float32)"
      ]
     },
     "execution_count": 30,
     "metadata": {},
     "output_type": "execute_result"
    }
   ],
   "source": [
    "predictions"
   ]
  },
  {
   "cell_type": "code",
   "execution_count": 31,
   "metadata": {},
   "outputs": [
    {
     "name": "stdout",
     "output_type": "stream",
     "text": [
      "x_test shape:  (28, 224, 224, 3)\n",
      "x_test_plt shape:  (28, 224, 224, 3)\n",
      "predictions:  (28, 1)\n"
     ]
    }
   ],
   "source": [
    "print('x_test shape: ', test_x.shape)\n",
    "x_test_plt = np.squeeze(test_x)\n",
    "print('x_test_plt shape: ', x_test_plt.shape)\n",
    "print('predictions: ', predictions.shape)"
   ]
  },
  {
   "cell_type": "code",
   "execution_count": 32,
   "metadata": {},
   "outputs": [
    {
     "name": "stdout",
     "output_type": "stream",
     "text": [
      "Prediction:  ['Eva']\n",
      "With an accuracy of: 85.71 %\n"
     ]
    },
    {
     "data": {
      "image/png": "[encoded data removed]",
      "text/plain": [
       "<Figure size 432x288 with 1 Axes>"
      ]
     },
     "metadata": {
      "needs_background": "light"
     },
     "output_type": "display_data"
    }
   ],
   "source": [
    " #see results\n",
    "i = 1\n",
    "plt.imshow(x_test_plt[i])\n",
    "print('Prediction: ' , np.where(predictions[i]<=0.5,'Eva','Edgar'))\n",
    "print('With an accuracy of:', np.round(score[1]*100,2), '%' )"
   ]
  },
  {
   "cell_type": "markdown",
   "metadata": {},
   "source": [
    "### SAVE THE MODEL "
   ]
  },
  {
   "cell_type": "markdown",
   "metadata": {},
   "source": [
    "Si la Eva es 0 i Edgar es 1 fem que si es mes gran"
   ]
  },
  {
   "cell_type": "markdown",
   "metadata": {},
   "source": [
    "### REAL TIME"
   ]
  },
  {
   "cell_type": "code",
   "execution_count": 42,
   "metadata": {},
   "outputs": [],
   "source": [
    "cap = cv2.VideoCapture(0)\n",
    "from PIL import ImageFont, ImageDraw, Image\n",
    "# Load our image template, this is our reference image\n",
    "image_template = cv2.imread('eva2.jpeg', 0) \n",
    "\n",
    "while True:\n",
    "\n",
    "    # Get webcam images\n",
    "    ret, frame = cap.read()\n",
    "    \n",
    "    img = np.resize(frame, (224,224,3))\n",
    "    im2arr = np.array(img)\n",
    "    im2arr1 = im2arr.reshape(1,224,224,3)\n",
    "    \n",
    "    predictions = model.predict(im2arr1)\n",
    "    \n",
    "    if predictions <= 0.05:\n",
    "        text = \"EVA\"\n",
    "    else:\n",
    "        text = \"\"\n",
    "    cv2.putText(frame,text,(30,70), cv2.FONT_HERSHEY_COMPLEX, 2 ,(255,255,255), 6)\n",
    "    cv2.imshow('Object Detector using ORB', frame)\n",
    "    \n",
    "    if cv2.waitKey(1) == 13: #13 is the Enter Key\n",
    "        break\n",
    "\n",
    "cap.release()\n",
    "cv2.destroyAllWindows()"
   ]
  },
  {
   "cell_type": "code",
   "execution_count": null,
   "metadata": {},
   "outputs": [],
   "source": []
  },
  {
   "cell_type": "code",
   "execution_count": null,
   "metadata": {},
   "outputs": [],
   "source": []
  },
  {
   "cell_type": "code",
   "execution_count": null,
   "metadata": {},
   "outputs": [],
   "source": []
  },
  {
   "cell_type": "code",
   "execution_count": null,
   "metadata": {},
   "outputs": [],
   "source": []
  }
 ],
 "metadata": {
  "kernelspec": {
   "display_name": "Python 3",
   "language": "python",
   "name": "python3"
  },
  "language_info": {
   "codemirror_mode": {
    "name": "ipython",
    "version": 3
   },
   "file_extension": ".py",
   "mimetype": "text/x-python",
   "name": "python",
   "nbconvert_exporter": "python",
   "pygments_lexer": "ipython3",
   "version": "3.7.3"
  }
 },
 "nbformat": 4,
 "nbformat_minor": 2
}
