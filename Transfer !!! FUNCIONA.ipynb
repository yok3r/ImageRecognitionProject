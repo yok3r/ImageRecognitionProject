{
 "cells": [
  {
   "cell_type": "code",
   "execution_count": 1,
   "metadata": {},
   "outputs": [],
   "source": [
    "import cv2\n",
    "import matplotlib.pyplot as plt\n",
    "%matplotlib inline\n",
    "import numpy as np\n",
    "import imageio"
   ]
  },
  {
   "cell_type": "code",
   "execution_count": 2,
   "metadata": {},
   "outputs": [],
   "source": [
    "import glob\n",
    "eva=[]\n",
    "for image_path in glob.glob(\"image_aumentation/Eva/*.jpg\"):\n",
    "    image = imageio.imread(image_path)\n",
    "    eva.append(image)"
   ]
  },
  {
   "cell_type": "code",
   "execution_count": 3,
   "metadata": {},
   "outputs": [
    {
     "data": {
      "text/plain": [
       "70"
      ]
     },
     "execution_count": 3,
     "metadata": {},
     "output_type": "execute_result"
    }
   ],
   "source": [
    "len(eva)"
   ]
  },
  {
   "cell_type": "code",
   "execution_count": 4,
   "metadata": {},
   "outputs": [],
   "source": [
    "import glob\n",
    "edgar=[]\n",
    "for image_path in glob.glob(\"image_aumentation/Edgar/*.jpg\"):\n",
    "    image = imageio.imread(image_path)\n",
    "    edgar.append(image)"
   ]
  },
  {
   "cell_type": "code",
   "execution_count": 5,
   "metadata": {},
   "outputs": [],
   "source": [
    "eva_res=[]\n",
    "width = 224\n",
    "height = 224\n",
    "for image in eva:\n",
    "    image_resized = cv2.resize(image,(width,height),interpolation = cv2.INTER_CUBIC)\n",
    "    eva_res.append(image_resized)"
   ]
  },
  {
   "cell_type": "code",
   "execution_count": 6,
   "metadata": {},
   "outputs": [],
   "source": [
    "edgar_res=[]\n",
    "width = 224\n",
    "height = 224\n",
    "for image in edgar:\n",
    "    image_resized = cv2.resize(image,(width,height),interpolation = cv2.INTER_CUBIC)\n",
    "    edgar_res.append(image_resized)"
   ]
  },
  {
   "cell_type": "code",
   "execution_count": 7,
   "metadata": {},
   "outputs": [],
   "source": [
    "edited_eva=[]\n",
    "for i in range(len(eva_res)):\n",
    "    gray_eva= cv2.cvtColor(eva_res[i],cv2.COLOR_BGR2GRAY)\n",
    "    edges = cv2.adaptiveThreshold(gray_eva, 255,cv2.ADAPTIVE_THRESH_MEAN_C,cv2.THRESH_BINARY,27,10)\n",
    "    color_eva= cv2.cvtColor(edges,cv2.COLOR_GRAY2RGB)\n",
    "    edited_eva.append(color_eva)"
   ]
  },
  {
   "cell_type": "code",
   "execution_count": 8,
   "metadata": {},
   "outputs": [],
   "source": [
    "edited_edgar=[]\n",
    "for i in range(len(eva_res)):\n",
    "    gray_eva= cv2.cvtColor(edgar_res[i],cv2.COLOR_BGR2GRAY)\n",
    "    edges = cv2.adaptiveThreshold(gray_eva, 255,cv2.ADAPTIVE_THRESH_MEAN_C,cv2.THRESH_BINARY,27,10)\n",
    "    color_edgar= cv2.cvtColor(edges,cv2.COLOR_GRAY2RGB)\n",
    "    edited_edgar.append(color_edgar)"
   ]
  },
  {
   "cell_type": "markdown",
   "metadata": {},
   "source": [
    "### Pre-pocesat imatges"
   ]
  },
  {
   "cell_type": "code",
   "execution_count": 9,
   "metadata": {},
   "outputs": [],
   "source": [
    "eva = np.asarray(edited_eva)"
   ]
  },
  {
   "cell_type": "code",
   "execution_count": 10,
   "metadata": {},
   "outputs": [],
   "source": [
    "edgar = np.asarray(edited_edgar)"
   ]
  },
  {
   "cell_type": "markdown",
   "metadata": {},
   "source": [
    "### Train/test"
   ]
  },
  {
   "cell_type": "code",
   "execution_count": 11,
   "metadata": {},
   "outputs": [],
   "source": [
    "total = eva.shape[0]"
   ]
  },
  {
   "cell_type": "code",
   "execution_count": 12,
   "metadata": {},
   "outputs": [
    {
     "data": {
      "text/plain": [
       "56.0"
      ]
     },
     "execution_count": 12,
     "metadata": {},
     "output_type": "execute_result"
    }
   ],
   "source": [
    "train = total*0.8\n",
    "train"
   ]
  },
  {
   "cell_type": "code",
   "execution_count": 13,
   "metadata": {},
   "outputs": [],
   "source": [
    "eva = np.split(eva,[56])"
   ]
  },
  {
   "cell_type": "code",
   "execution_count": 14,
   "metadata": {},
   "outputs": [],
   "source": [
    "edgar = np.split(edgar,[56])\n"
   ]
  },
  {
   "cell_type": "code",
   "execution_count": 15,
   "metadata": {},
   "outputs": [],
   "source": [
    "eva_train = eva[0]\n",
    "eva_test = eva[1]"
   ]
  },
  {
   "cell_type": "code",
   "execution_count": 16,
   "metadata": {},
   "outputs": [],
   "source": [
    "edgar_train = edgar[0]\n",
    "edgar_test = edgar[1]"
   ]
  },
  {
   "cell_type": "code",
   "execution_count": 17,
   "metadata": {},
   "outputs": [],
   "source": [
    "label_eva_train=np.zeros((56))\n",
    "label_eva_test=np.zeros((14))\n",
    "#We define that if we have a 0 is a Eva"
   ]
  },
  {
   "cell_type": "code",
   "execution_count": 18,
   "metadata": {},
   "outputs": [],
   "source": [
    "label_edgar_train=np.ones((56))\n",
    "label_edgar_test=np.ones((14))"
   ]
  },
  {
   "cell_type": "code",
   "execution_count": 19,
   "metadata": {},
   "outputs": [
    {
     "data": {
      "text/plain": [
       "(56, 224, 224, 3)"
      ]
     },
     "execution_count": 19,
     "metadata": {},
     "output_type": "execute_result"
    }
   ],
   "source": [
    "eva_train.shape"
   ]
  },
  {
   "cell_type": "code",
   "execution_count": 20,
   "metadata": {},
   "outputs": [
    {
     "data": {
      "text/plain": [
       "(56, 224, 224, 3)"
      ]
     },
     "execution_count": 20,
     "metadata": {},
     "output_type": "execute_result"
    }
   ],
   "source": [
    "edgar_train.shape"
   ]
  },
  {
   "cell_type": "code",
   "execution_count": 21,
   "metadata": {},
   "outputs": [],
   "source": [
    "train_x=np.concatenate((eva_train,edgar_train))\n",
    "test_x=np.concatenate((eva_test,edgar_test))\n",
    "train_y=np.concatenate((label_eva_train,label_edgar_train))\n",
    "test_y=np.concatenate((label_eva_test,label_edgar_test))"
   ]
  },
  {
   "cell_type": "markdown",
   "metadata": {},
   "source": [
    "## MODEL"
   ]
  },
  {
   "cell_type": "code",
   "execution_count": 22,
   "metadata": {},
   "outputs": [],
   "source": [
    "image_size = 224\n",
    "#ESTO NO DEBE DE ESTAR AQUI"
   ]
  },
  {
   "cell_type": "code",
   "execution_count": 23,
   "metadata": {},
   "outputs": [
    {
     "name": "stderr",
     "output_type": "stream",
     "text": [
      "WARNING: Logging before flag parsing goes to stderr.\n",
      "W0829 08:51:38.303551 140535234881344 deprecation.py:506] From /home/eva/anaconda3/envs/akademyai/lib/python3.7/site-packages/tensorflow/python/ops/init_ops.py:1251: calling VarianceScaling.__init__ (from tensorflow.python.ops.init_ops) with dtype is deprecated and will be removed in a future version.\n",
      "Instructions for updating:\n",
      "Call initializer instance with the dtype argument instead of passing it to the constructor\n"
     ]
    }
   ],
   "source": [
    "import tensorflow as tf\n",
    "from tensorflow import keras\n",
    "IMG_SHAPE = (image_size, image_size,3)\n",
    "#This is the size of the images in the input\n",
    "\n",
    "\n",
    "# Create the base model from the pre-trained model MobileNet V2\n",
    "base_model = tf.keras.applications.MobileNetV2(input_shape=IMG_SHAPE,\n",
    "                                               include_top=False,\n",
    "                                               weights='imagenet')\n"
   ]
  },
  {
   "cell_type": "code",
   "execution_count": 24,
   "metadata": {},
   "outputs": [],
   "source": [
    "base_model.trainable = False"
   ]
  },
  {
   "cell_type": "code",
   "execution_count": 25,
   "metadata": {},
   "outputs": [],
   "source": [
    "model = tf.keras.Sequential([\n",
    "    base_model,\n",
    "    keras.layers.GlobalAveragePooling2D(),\n",
    "    keras.layers.Dense(485, activation='elu'),\n",
    "    keras.layers.Flatten(data_format=None),\n",
    "    keras.layers.Dense(1, activation='sigmoid')\n",
    "])\n"
   ]
  },
  {
   "cell_type": "code",
   "execution_count": 26,
   "metadata": {},
   "outputs": [
    {
     "name": "stderr",
     "output_type": "stream",
     "text": [
      "W0829 08:51:44.410520 140535234881344 deprecation.py:323] From /home/eva/anaconda3/envs/akademyai/lib/python3.7/site-packages/tensorflow/python/ops/nn_impl.py:180: add_dispatch_support.<locals>.wrapper (from tensorflow.python.ops.array_ops) is deprecated and will be removed in a future version.\n",
      "Instructions for updating:\n",
      "Use tf.where in 2.0, which has the same broadcast rule as np.where\n"
     ]
    }
   ],
   "source": [
    "# We need to compile the model before train it\n",
    "model.compile(optimizer=tf.keras.optimizers.RMSprop(lr=0.00001),\n",
    "              loss='binary_crossentropy',\n",
    "              metrics=['accuracy'])\n"
   ]
  },
  {
   "cell_type": "markdown",
   "metadata": {},
   "source": [
    "## AQUI ES DONDE ENTRENAMOS EL MODELO DEFINIDO ANTERIORMENTE CON NUESTROS DATOS"
   ]
  },
  {
   "cell_type": "code",
   "execution_count": 27,
   "metadata": {},
   "outputs": [
    {
     "name": "stdout",
     "output_type": "stream",
     "text": [
      "Epoch 1/7\n",
      "112/112 [==============================] - 12s 107ms/sample - loss: 0.6446 - acc: 0.6071\n",
      "Epoch 2/7\n",
      "112/112 [==============================] - 11s 96ms/sample - loss: 0.5950 - acc: 0.6875\n",
      "Epoch 3/7\n",
      "112/112 [==============================] - 11s 96ms/sample - loss: 0.5601 - acc: 0.7054\n",
      "Epoch 4/7\n",
      "112/112 [==============================] - 11s 94ms/sample - loss: 0.5397 - acc: 0.7589\n",
      "Epoch 5/7\n",
      "112/112 [==============================] - 10s 86ms/sample - loss: 0.5167 - acc: 0.7946\n",
      "Epoch 6/7\n",
      "112/112 [==============================] - 10s 88ms/sample - loss: 0.4780 - acc: 0.8571\n",
      "Epoch 7/7\n",
      "112/112 [==============================] - 10s 87ms/sample - loss: 0.4753 - acc: 0.8214\n"
     ]
    },
    {
     "data": {
      "text/plain": [
       "<tensorflow.python.keras.callbacks.History at 0x7fd05effd400>"
      ]
     },
     "execution_count": 27,
     "metadata": {},
     "output_type": "execute_result"
    }
   ],
   "source": [
    "model.fit(train_x, train_y, epochs=7)"
   ]
  },
  {
   "cell_type": "code",
   "execution_count": 35,
   "metadata": {},
   "outputs": [
    {
     "name": "stdout",
     "output_type": "stream",
     "text": [
      "28/28 [==============================] - 2s 63ms/sample - loss: 0.8621 - acc: 0.5000\n",
      "test accuracy:  0.5\n"
     ]
    }
   ],
   "source": [
    "# evaluate\n",
    "test_loss, test_acc = model.evaluate(test_x, test_y)\n",
    "print('test accuracy: ', test_acc)"
   ]
  },
  {
   "cell_type": "code",
   "execution_count": 29,
   "metadata": {},
   "outputs": [
    {
     "name": "stdout",
     "output_type": "stream",
     "text": [
      "Test loss: 0.8621001839637756\n",
      "Test accuracy: 0.5\n"
     ]
    }
   ],
   "source": [
    "# evaluate model\n",
    "score = model.evaluate(test_x, test_y, verbose=0)\n",
    "print('Test loss:', score[0])\n",
    "print('Test accuracy:', score[1])"
   ]
  },
  {
   "cell_type": "code",
   "execution_count": 30,
   "metadata": {},
   "outputs": [],
   "source": [
    "predictions = model.predict(test_x)"
   ]
  },
  {
   "cell_type": "code",
   "execution_count": 31,
   "metadata": {},
   "outputs": [
    {
     "data": {
      "text/plain": [
       "0.24236262"
      ]
     },
     "execution_count": 31,
     "metadata": {},
     "output_type": "execute_result"
    }
   ],
   "source": [
    "predictions[0][0]"
   ]
  },
  {
   "cell_type": "code",
   "execution_count": 32,
   "metadata": {},
   "outputs": [
    {
     "name": "stdout",
     "output_type": "stream",
     "text": [
      "x_test shape:  (28, 224, 224, 3)\n",
      "x_test_plt shape:  (28, 224, 224, 3)\n",
      "predictions:  (28, 1)\n"
     ]
    }
   ],
   "source": [
    "print('x_test shape: ', test_x.shape)\n",
    "x_test_plt = np.squeeze(test_x)\n",
    "print('x_test_plt shape: ', x_test_plt.shape)\n",
    "print('predictions: ', predictions.shape)"
   ]
  },
  {
   "cell_type": "code",
   "execution_count": 33,
   "metadata": {},
   "outputs": [
    {
     "name": "stdout",
     "output_type": "stream",
     "text": [
      "Prediction:  ['Eva']\n",
      "With an accuracy of: 50.0 %\n"
     ]
    },
    {
     "data": {
      "image/png": "[encoded data removed]",
      "text/plain": [
       "<Figure size 432x288 with 1 Axes>"
      ]
     },
     "metadata": {
      "needs_background": "light"
     },
     "output_type": "display_data"
    }
   ],
   "source": [
    " #see results\n",
    "i = 1\n",
    "plt.imshow(x_test_plt[i])\n",
    "print('Prediction: ' , np.where(predictions[i]<=0.5,'Eva','Edgar'))\n",
    "print('With an accuracy of:', np.round(score[1]*100,2), '%' )"
   ]
  },
  {
   "cell_type": "markdown",
   "metadata": {},
   "source": [
    "Si la Eva es 0 i Edgar es 1 fem que si es mes gran"
   ]
  },
  {
   "cell_type": "code",
   "execution_count": 36,
   "metadata": {},
   "outputs": [],
   "source": [
    "cap = cv2.VideoCapture(0)\n",
    "from PIL import ImageFont, ImageDraw, Image\n",
    "# Load our image template, this is our reference image\n",
    "image_template = cv2.imread('eva2.jpeg', 0) \n",
    "\n",
    "while True:\n",
    "\n",
    "    # Get webcam images\n",
    "    ret, frame = cap.read()\n",
    "    \n",
    "    img = np.resize(frame, (224,224,3))\n",
    "    im2arr = np.array(img)\n",
    "    im2arr1 = im2arr.reshape(1,224,224,3)\n",
    "    predictions = model.predict(im2arr1)\n",
    "    if predictions < 0.3:\n",
    "        text = \"EVA\"\n",
    "    if predictions > 0.7:\n",
    "        text = \"EDGAR\"\n",
    "    else:\n",
    "        text = \" \"\n",
    "    \n",
    "    cv2.putText(frame,text,(30,70), cv2.FONT_HERSHEY_COMPLEX, 2 ,(255,255,255), 6)\n",
    "    #cv2.putText(frame,predictions[0][0],(150,150), cv2.FONT_HERSHEY_COMPLEX, 2 ,(0,255,0), 2)\n",
    "    cv2.imshow('Object Detector using ORB', frame)\n",
    "    \n",
    "    if cv2.waitKey(1) == 13: #13 is the Enter Key\n",
    "        break\n",
    "\n",
    "cap.release()\n",
    "cv2.destroyAllWindows()"
   ]
  },
  {
   "cell_type": "code",
   "execution_count": null,
   "metadata": {},
   "outputs": [],
   "source": []
  },
  {
   "cell_type": "code",
   "execution_count": null,
   "metadata": {},
   "outputs": [],
   "source": []
  },
  {
   "cell_type": "code",
   "execution_count": null,
   "metadata": {},
   "outputs": [],
   "source": []
  },
  {
   "cell_type": "code",
   "execution_count": null,
   "metadata": {},
   "outputs": [],
   "source": []
  }
 ],
 "metadata": {
  "kernelspec": {
   "display_name": "Python 3",
   "language": "python",
   "name": "python3"
  },
  "language_info": {
   "codemirror_mode": {
    "name": "ipython",
    "version": 3
   },
   "file_extension": ".py",
   "mimetype": "text/x-python",
   "name": "python",
   "nbconvert_exporter": "python",
   "pygments_lexer": "ipython3",
   "version": "3.7.3"
  }
 },
 "nbformat": 4,
 "nbformat_minor": 2
}
