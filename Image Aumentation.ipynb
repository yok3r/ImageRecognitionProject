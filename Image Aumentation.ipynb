{
 "cells": [
  {
   "cell_type": "code",
   "execution_count": 1,
   "metadata": {},
   "outputs": [],
   "source": [
    "import cv2\n",
    "import matplotlib.pyplot as plt\n",
    "%matplotlib inline\n",
    "import numpy as np\n",
    "import imageio"
   ]
  },
  {
   "cell_type": "code",
   "execution_count": 2,
   "metadata": {},
   "outputs": [],
   "source": [
    "import glob\n",
    "eva=[]\n",
    "for image_path in glob.glob(\"images_inicials/Eva/*.jpg\"):\n",
    "    image = imageio.imread(image_path)\n",
    "    eva.append(image)\n",
    "edgar=[]\n",
    "for image_path in glob.glob(\"images_inicials/Edgar/*.jpg\"):\n",
    "    image = imageio.imread(image_path)\n",
    "    edgar.append(image)"
   ]
  },
  {
   "cell_type": "code",
   "execution_count": 3,
   "metadata": {},
   "outputs": [
    {
     "data": {
      "text/plain": [
       "34"
      ]
     },
     "execution_count": 3,
     "metadata": {},
     "output_type": "execute_result"
    }
   ],
   "source": [
    "len(eva)"
   ]
  },
  {
   "cell_type": "code",
   "execution_count": 4,
   "metadata": {},
   "outputs": [
    {
     "data": {
      "text/plain": [
       "34"
      ]
     },
     "execution_count": 4,
     "metadata": {},
     "output_type": "execute_result"
    }
   ],
   "source": [
    "len(edgar)"
   ]
  },
  {
   "cell_type": "code",
   "execution_count": 5,
   "metadata": {},
   "outputs": [],
   "source": [
    "import os\n",
    "import random\n",
    "from scipy import ndarray\n",
    "\n",
    "# image processing library\n",
    "import skimage as sk\n",
    "from skimage import transform\n",
    "from skimage import util\n",
    "from skimage import io\n",
    "\n",
    "def random_rotation(image_array: ndarray):\n",
    "    # pick a random degree of rotation between 25% on the left and 25% on the right\n",
    "    random_degree = random.uniform(-90, 87)\n",
    "    return sk.transform.rotate(image_array, random_degree)\n",
    "\n",
    "def random_rotation1(image_array: ndarray):\n",
    "    # pick a random degree of rotation between 25% on the left and 25% on the right\n",
    "    random_degree = random.uniform(-15, 67)\n",
    "    return sk.transform.rotate(image_array, random_degree)\n",
    "\n",
    "def random_rotation2(image_array: ndarray):\n",
    "    # pick a random degree of rotation between 25% on the left and 25% on the right\n",
    "    random_degree = random.uniform(-56, 47)\n",
    "    return sk.transform.rotate(image_array, random_degree)\n",
    "\n",
    "\n",
    "def random_noise(image_array: ndarray):\n",
    "    # add random noise to the image\n",
    "    return sk.util.random_noise(image_array)\n",
    "\n",
    "def horizontal_flip(image_array: ndarray):\n",
    "    # horizontal flip doesn't need skimage, it's easy as flipping the image array of pixels !\n",
    "    return image_array[:, ::-1]\n"
   ]
  },
  {
   "cell_type": "code",
   "execution_count": 16,
   "metadata": {},
   "outputs": [],
   "source": [
    "eva[12].flags\n",
    "eva[12] = eva[12].copy(order='C')"
   ]
  },
  {
   "cell_type": "code",
   "execution_count": 19,
   "metadata": {},
   "outputs": [],
   "source": [
    "\n",
    "for i in range(len(eva)):\n",
    "    eva[i] = eva[i].copy(order='C')\n",
    "    rotation = random_rotation(eva[i])\n",
    "    plt.imsave(\"image_aumentation/Eva/rotation\"+str(i)+\".jpg\",rotation)\n",
    "    \n",
    "    noise = random_noise(eva[i])\n",
    "    plt.imsave('image_aumentation/Eva/nose'+str(i)+\".jpg\",noise)\n",
    "    \n",
    "    horizontal = horizontal_flip(eva[i])\n",
    "    horizontal = horizontal.copy(order='C')\n",
    "    plt.imsave('image_aumentation/Eva/horizontal'+str(i)+\".jpg\",horizontal)\n",
    "    \n",
    "    rotation1 = random_rotation1(eva[i])\n",
    "    rotation1 = rotation1.copy(order='C')\n",
    "    plt.imsave(\"image_aumentation/Eva/rotation1\"+str(i)+\".jpg\",rotation1)\n",
    "    \n",
    "    rotation2 = random_rotation2(eva[i])\n",
    "    rotation2 = rotation2.copy(order='C')\n",
    "    plt.imsave(\"image_aumentation/Eva/rotation2\"+str(i)+\".jpg\",rotation2)\n"
   ]
  },
  {
   "cell_type": "code",
   "execution_count": 20,
   "metadata": {},
   "outputs": [],
   "source": [
    "    \n",
    "for i in range(len(edgar)):\n",
    "    rotation = random_rotation(edgar[i])\n",
    "    plt.imsave(\"image_aumentation/Edgar/rotation\"+str(i)+\".jpg\",rotation)\n",
    "    \n",
    "    noise = random_noise(edgar[i])\n",
    "    plt.imsave('image_aumentation/Edgar/nose'+str(i)+\".jpg\",noise)\n",
    "    \n",
    "    horizontal = horizontal_flip(edgar[i])\n",
    "    horizontal = horizontal.copy(order='C')\n",
    "    plt.imsave('image_aumentation/Edgar/horizontal'+str(i)+\".jpg\",horizontal)\n",
    "    \n",
    "    rotation1 = random_rotation1(edgar[i])\n",
    "    rotation1 = rotation1.copy(order='C')\n",
    "    plt.imsave(\"image_aumentation/Edgar/rotation1\"+str(i)+\".jpg\",rotation1)\n",
    "    \n",
    "    rotation2 = random_rotation2(edgar[i])\n",
    "    rotation2 = rotation2.copy(order='C')\n",
    "    plt.imsave(\"image_aumentation/Edgar/rotation2\"+str(i)+\".jpg\",rotation2)"
   ]
  },
  {
   "cell_type": "code",
   "execution_count": null,
   "metadata": {},
   "outputs": [],
   "source": []
  }
 ],
 "metadata": {
  "kernelspec": {
   "display_name": "Python 3",
   "language": "python",
   "name": "python3"
  },
  "language_info": {
   "codemirror_mode": {
    "name": "ipython",
    "version": 3
   },
   "file_extension": ".py",
   "mimetype": "text/x-python",
   "name": "python",
   "nbconvert_exporter": "python",
   "pygments_lexer": "ipython3",
   "version": "3.7.3"
  }
 },
 "nbformat": 4,
 "nbformat_minor": 2
}
